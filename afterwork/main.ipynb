{
 "cells": [
  {
   "cell_type": "markdown",
   "metadata": {},
   "source": [
    "# Лето 3 курс"
   ]
  },
  {
   "cell_type": "code",
   "execution_count": 1,
   "metadata": {},
   "outputs": [],
   "source": [
    "import numpy as np\n",
    "import librosa\n",
    "import torchaudio\n",
    "\n",
    "import os"
   ]
  },
  {
   "cell_type": "code",
   "execution_count": 2,
   "metadata": {},
   "outputs": [],
   "source": [
    "class LoadAudio_librosa(object):\n",
    "    \"\"\"Loads an audio into a numpy array.\"\"\"\n",
    "\n",
    "    def __init__(self, sample_rate=16000):\n",
    "        self.sample_rate = sample_rate\n",
    "\n",
    "    def __call__(self, data):\n",
    "        path = data['path']\n",
    "        \n",
    "        samples, sample_rate = librosa.load(path, sr=self.sample_rate)\n",
    "        \n",
    "        data['samples'] = samples\n",
    "        data['sample_rate'] = sample_rate\n",
    "        return data"
   ]
  },
  {
   "cell_type": "code",
   "execution_count": 3,
   "metadata": {},
   "outputs": [],
   "source": [
    "class LoadAudio_torch(object):\n",
    "    \"\"\"Loads an audio into a numpy array.\"\"\"\n",
    "\n",
    "    def __init__(self):\n",
    "        pass\n",
    "\n",
    "    def __call__(self, data):\n",
    "        path = data['path']\n",
    "        \n",
    "        samples, sample_rate = torchaudio.load(path)\n",
    "        \n",
    "        data['samples'] = samples\n",
    "        data['sample_rate'] = sample_rate\n",
    "        return data"
   ]
  },
  {
   "cell_type": "code",
   "execution_count": 4,
   "metadata": {},
   "outputs": [],
   "source": [
    "test_audio_file = '/Users/vasili/Desktop/msu_3_coursework/datasets/speech_commands_v2/forward/0a2b400e_nohash_0.wav'\n",
    "data = {'path': test_audio_file}\n",
    "\n",
    "\n",
    "audio_loader_librosa = LoadAudio_librosa()\n",
    "audio_loader_torch = LoadAudio_torch()\n",
    "\n",
    "\n",
    "output_librosa = audio_loader_librosa(data)\n",
    "output_torch = audio_loader_librosa(data)"
   ]
  },
  {
   "cell_type": "code",
   "execution_count": 5,
   "metadata": {},
   "outputs": [],
   "source": [
    "test_folder = '/Users/vasili/Desktop/msu_3_coursework/datasets/speech_commands_v2/five'\n",
    "\n",
    "datas = []\n",
    "\n",
    "for file in os.listdir(test_folder):\n",
    "    path = os.path.join(test_folder, file)\n",
    "    datas.append({'path': path})"
   ]
  },
  {
   "cell_type": "code",
   "execution_count": 10,
   "metadata": {},
   "outputs": [],
   "source": [
    "for data in datas:\n",
    "    output_data = audio_loader_librosa(data)"
   ]
  },
  {
   "cell_type": "code",
   "execution_count": 9,
   "metadata": {},
   "outputs": [],
   "source": [
    "for data in datas:\n",
    "    output_data = audio_loader_torch(data)"
   ]
  }
 ],
 "metadata": {
  "kernelspec": {
   "display_name": ".venv",
   "language": "python",
   "name": "python3"
  },
  "language_info": {
   "codemirror_mode": {
    "name": "ipython",
    "version": 3
   },
   "file_extension": ".py",
   "mimetype": "text/x-python",
   "name": "python",
   "nbconvert_exporter": "python",
   "pygments_lexer": "ipython3",
   "version": "3.11.4"
  },
  "orig_nbformat": 4
 },
 "nbformat": 4,
 "nbformat_minor": 2
}
