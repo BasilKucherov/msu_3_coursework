{
 "cells": [
  {
   "cell_type": "code",
   "execution_count": null,
   "metadata": {},
   "outputs": [
    {
     "ename": "",
     "evalue": "",
     "output_type": "error",
     "traceback": [
      "\u001b[1;31mДля выполнения ячеек с \"/usr/local/bin/python3\" требуется пакет ipykernel.\n",
      "\u001b[1;31mRun the following command to install 'ipykernel' into the Python environment. \n",
      "\u001b[1;31mCommand: '/usr/local/bin/python3 -m pip install ipykernel -U --user --force-reinstall'"
     ]
    }
   ],
   "source": [
    "**Источники** \n",
    "https://lilianweng.github.io/posts/2021-05-31-contrastive/"
   ]
  },
  {
   "attachments": {},
   "cell_type": "markdown",
   "metadata": {},
   "source": [
    "**Функции потерь** "
   ]
  },
  {
   "attachments": {},
   "cell_type": "markdown",
   "metadata": {},
   "source": [
    "**Тренд**\n",
    "\n",
    "Использование множества позитивных и негативных пар в каждом батче"
   ]
  },
  {
   "attachments": {},
   "cell_type": "markdown",
   "metadata": {},
   "source": [
    "***Contrastive loss***:\n",
    "\n",
    "Принимает пару объектов. Суть - расстояние (квадрат расстояния) между объектами. Минимизирует расстояние между эмбедингами одного класса, увеличивает для объектов разного классов. \n",
    "![title](images/contrastive_loss.png)"
   ]
  },
  {
   "attachments": {},
   "cell_type": "markdown",
   "metadata": {},
   "source": [
    "***Triplet loss***\n",
    "\n",
    "Якорный, положительный, негативный примеры. Суть - расстояние (квадрат расстояния) между объектами. Минимизирует расстояние между эмбедингами одного класса, увеличивает для объектов разного классов.\n",
    "![title](images/triplet_loss.png)"
   ]
  },
  {
   "attachments": {},
   "cell_type": "markdown",
   "metadata": {},
   "source": [
    "***Lifted Structured Loss***\n",
    "\n",
    "Батч разбивается на две группы: все позитивные пары, все негативные пары. Суть - расстояние (квадрат расстояния), loss - средний квадрат суммы расстояния в позитивной паре и (Mining Hard Negative) худшее расстояния (наименьшее) с негативным для элементов из позитивной пары. \n",
    "![title](images/lifted_structured_loss_1.png)\n",
    "Mining Hard Negative кусочно постоянная -> может привести к неоптимальному минимому -> лучше сгладить (log(exp(x))). \n",
    "![title](images/lifted_structured_loss_2.png)"
   ]
  },
  {
   "attachments": {},
   "cell_type": "markdown",
   "metadata": {},
   "source": [
    "***N-pair Loss***\n",
    "\n",
    "Обощение trile loss: вместо одного негативного примера используется множество (N-1). Суть - (покомпонентное перемножение координат эмбеддингов?) (сглаженное log(exp(x))).  \n",
    "![title](images/n_pair_loss.png)"
   ]
  },
  {
   "attachments": {},
   "cell_type": "markdown",
   "metadata": {},
   "source": [
    "***Noise Contrasive Estimation***\n",
    "\n",
    "Помимо входного примера и истинного выхода, используется N примеров шума из распределения Q (настраиваемый параметр). Loss строится по условным вероятноястям: \n",
    "![title](images/noise_contrastive_estimation_1.png)\n",
    "![title](images/noise_contrastive_estimation_2.png)"
   ]
  },
  {
   "attachments": {},
   "cell_type": "markdown",
   "metadata": {},
   "source": [
    "***InfoNCE***\n",
    "![title](images/NCEinfo_1.png)\n",
    "![title](images/NCEinfo_2.png)\n"
   ]
  },
  {
   "attachments": {},
   "cell_type": "markdown",
   "metadata": {},
   "source": [
    "***Soft-Neraest Neighbors Loss***\n",
    "\n",
    "![images](images/soft_nearest_neighbors_loss.png)"
   ]
  },
  {
   "attachments": {},
   "cell_type": "markdown",
   "metadata": {},
   "source": [
    "**Hard Negative Mining**\n",
    "\n",
    "Негативные примеры должны иметь другой класс, но близкий эмбеддинг к эмбеддингу якорного (основного) примера. \n",
    "\n"
   ]
  },
  {
   "attachments": {},
   "cell_type": "markdown",
   "metadata": {},
   "source": [
    "**Image augmentation**\n",
    "\n",
    "**Parralel Augmentation**\n",
    "\n",
    "Создание двух шумных версий исходного изображения и обучается так, чтобы эти преобразованные изображения имели схожие эмбеддинги"
   ]
  },
  {
   "attachments": {},
   "cell_type": "markdown",
   "metadata": {},
   "source": [
    "***SimCLR***\n",
    "\n",
    "Выбрать минибатч из N изображений. Для каждого строятся по два преобразованных изображения (одинаковые преобразования для всех). Получается ля одной позитивной пары есть (N - 1) пар негативных. Используется косинусное расстояние sim.\n",
    "![title](images/SimCLR_loss.png)"
   ]
  },
  {
   "attachments": {},
   "cell_type": "markdown",
   "metadata": {},
   "source": [
    "***Barlow Twins***\n",
    "\n",
    "Строятся две преобразованные версии изображения. Строятся их эмбеддинги. Строится матрица корреляция векторов-эмбеддингов. Эмбеддинги должны быть похожи и неизбыточны. \n",
    "![title](images/barlow_twins_pipeline.png)"
   ]
  },
  {
   "attachments": {},
   "cell_type": "markdown",
   "metadata": {},
   "source": [
    "***BYOL***\n",
    "\n",
    "Не использует негтивные примеры. Есть две сети - online и target с одинаковой архитектурой, но разными весами. Targer сеть изменяет веса так: $$\\xi \\leftarrow \\tau \\xi + (1-\\tau) \\theta$$\n",
    "\n",
    "![title](images/BYOL_pipeline.png)\n",
    "\n",
    " - Создать преобразованные изображения\n",
    " - кодировать в эмбеддинг\n",
    " - проекция в скрытый слой\n",
    " - online сеть делает предсказание\n",
    " - L2 нормальзация\n",
    " - Loss это MSE\n",
    " - Можно поменять местами преобразованные изображения\n",
    " - Общий лосс - сумма полученных на предыщущих двух шагах\n"
   ]
  },
  {
   "attachments": {},
   "cell_type": "markdown",
   "metadata": {},
   "source": [
    "**Memory bank**\n",
    "\n",
    "Ресурсозатратно вычислять эмбеддинги для каждого батча. Лучше сразу посчитать эмбеддинги и запомнить их. "
   ]
  },
  {
   "attachments": {},
   "cell_type": "markdown",
   "metadata": {},
   "source": [
    "**Feature Clustering**"
   ]
  },
  {
   "attachments": {},
   "cell_type": "markdown",
   "metadata": {},
   "source": [
    "***DeepCluster***\n",
    "\n",
    "![title](images/deepcluster_pipeline.png)\n",
    "\n",
    " - Построить эмбеддинг\n",
    " - Кластеризация с помощью K-means\n",
    " - Использовать кластеризацию для присвоения классам меток\n",
    " - 'Обычное' обучение"
   ]
  },
  {
   "attachments": {},
   "cell_type": "markdown",
   "metadata": {},
   "source": [
    "***SmAV***\n",
    "\n"
   ]
  },
  {
   "attachments": {},
   "cell_type": "markdown",
   "metadata": {},
   "source": [
    "**Language: Sentence Embedding**\n",
    "\n",
    "Преобразовывать слова / предложения сложнее чем иображения. Неоюходимо изменить вид, оставляя семантику."
   ]
  },
  {
   "attachments": {},
   "cell_type": "markdown",
   "metadata": {},
   "source": [
    "***Lexical Edits***\n",
    "\n",
    "***EDA***\n",
    "\n",
    " - Замена слов на синонимы\n",
    " - Случаное добавление синонима слова в предложения в случайное место в предложении\n",
    " - Переставление местами слов\n",
    " -  Удаление слов из предложения\n",
    "\n"
   ]
  },
  {
   "attachments": {},
   "cell_type": "markdown",
   "metadata": {},
   "source": [
    "***Back Translation***\n",
    "\n",
    "CERT использует back-translation: перевод текста на другой язык и обратно -> получили преобразование."
   ]
  },
  {
   "attachments": {},
   "cell_type": "markdown",
   "metadata": {},
   "source": [
    "***Dropout and Cutoff***\n",
    "\n",
    " - Удаление некоторых токенов (слов)\n",
    " - Удаление некоторых свойств (столбцов эмбеддингов)\n",
    " - Удаление больших послеовательных частей текста"
   ]
  },
  {
   "attachments": {},
   "cell_type": "markdown",
   "metadata": {},
   "source": [
    "***SimCSE***\n",
    "\n",
    "Обучение без учителя. Использует dropuout как шум, преобразование. \n",
    " - Использовать две разных маски dropout -> получим позитивную пару\n",
    " - Все остальные примеры в батче - негативные примеры "
   ]
  },
  {
   "attachments": {},
   "cell_type": "markdown",
   "metadata": {},
   "source": [
    "**Suervision from NLI**"
   ]
  },
  {
   "attachments": {},
   "cell_type": "markdown",
   "metadata": {},
   "source": []
  }
 ],
 "metadata": {
  "kernelspec": {
   "display_name": "Python 3.10.8 ('.venv': venv)",
   "language": "python",
   "name": "python3"
  },
  "language_info": {
   "codemirror_mode": {
    "name": "ipython",
    "version": 3
   },
   "file_extension": ".py",
   "mimetype": "text/x-python",
   "name": "python",
   "nbconvert_exporter": "python",
   "pygments_lexer": "ipython3",
   "version": "3.11.4"
  },
  "orig_nbformat": 4,
  "vscode": {
   "interpreter": {
    "hash": "8cae94ea599534cd3bc54dba5d75a920291cfad4cc00e314a0c0bc73446378d8"
   }
  }
 },
 "nbformat": 4,
 "nbformat_minor": 2
}
